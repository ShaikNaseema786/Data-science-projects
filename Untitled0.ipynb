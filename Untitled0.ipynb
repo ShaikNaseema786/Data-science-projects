{
  "nbformat": 4,
  "nbformat_minor": 0,
  "metadata": {
    "colab": {
      "provenance": [],
      "authorship_tag": "ABX9TyMv0wXAbc+dwVS58F/gCuFD",
      "include_colab_link": true
    },
    "kernelspec": {
      "name": "python3",
      "display_name": "Python 3"
    },
    "language_info": {
      "name": "python"
    }
  },
  "cells": [
    {
      "cell_type": "markdown",
      "metadata": {
        "id": "view-in-github",
        "colab_type": "text"
      },
      "source": [
        "<a href=\"https://colab.research.google.com/github/ShaikNaseema786/Data-science-projects/blob/main/Untitled0.ipynb\" target=\"_parent\"><img src=\"https://colab.research.google.com/assets/colab-badge.svg\" alt=\"Open In Colab\"/></a>"
      ]
    },
    {
      "cell_type": "code",
      "execution_count": null,
      "metadata": {
        "colab": {
          "base_uri": "https://localhost:8080/"
        },
        "id": "_H_Xcjvatjiv",
        "outputId": "d390db22-42b6-4f51-cde4-82d44936ec2d"
      },
      "outputs": [
        {
          "output_type": "stream",
          "name": "stdout",
          "text": [
            "Mounted at /content/drive\n"
          ]
        }
      ],
      "source": [
        "#case study -state Electricity\n",
        "from google.colab import drive\n",
        "drive.mount('/content/drive')"
      ]
    },
    {
      "cell_type": "code",
      "source": [
        "import pandas as pd\n",
        "import numpy as np\n",
        "import matplotlib.pyplot as plt\n",
        "from pandas import read_csv\n",
        "path=\"/content/drive/MyDrive/energy.csv\"\n",
        "electricity=pd.read_csv(path)\n",
        "print(type(electricity))\n",
        "print(electricity)"
      ],
      "metadata": {
        "colab": {
          "base_uri": "https://localhost:8080/"
        },
        "id": "QeSUzQC7DqTj",
        "outputId": "0f1344dd-da7c-4f7f-aab5-0e495a4c3bdc"
      },
      "execution_count": null,
      "outputs": [
        {
          "output_type": "stream",
          "name": "stdout",
          "text": [
            "<class 'pandas.core.frame.DataFrame'>\n",
            "          Date        State  Consumption\n",
            "0   01-01-2024    Tamilnadu       347.25\n",
            "1   02-01-2024      Manipur       605.12\n",
            "2   03-01-2024    Telengana       444.63\n",
            "3   04-01-2024  Pondicherry       974.54\n",
            "4   05-01-2024    Tamilnadu       864.02\n",
            "..         ...          ...          ...\n",
            "95  05-04-2024       Kerala       587.30\n",
            "96  06-04-2024           UP       726.21\n",
            "97  07-04-2024       Andhra       305.70\n",
            "98  08-04-2024       Sikkim       257.46\n",
            "99  09-04-2024  Pondicherry       983.95\n",
            "\n",
            "[100 rows x 3 columns]\n"
          ]
        }
      ]
    },
    {
      "cell_type": "code",
      "source": [
        "print(electricity.shape)"
      ],
      "metadata": {
        "colab": {
          "base_uri": "https://localhost:8080/"
        },
        "id": "9V7HjJV7dyYd",
        "outputId": "5c9a45ec-7569-40cf-a711-c63f21878290"
      },
      "execution_count": null,
      "outputs": [
        {
          "output_type": "stream",
          "name": "stdout",
          "text": [
            "(100, 3)\n"
          ]
        }
      ]
    },
    {
      "cell_type": "code",
      "source": [
        "print(electricity.head(5))"
      ],
      "metadata": {
        "colab": {
          "base_uri": "https://localhost:8080/"
        },
        "id": "LXquQfltd-1u",
        "outputId": "1f9db9c8-ad7b-45a2-95ab-9bd6765a5a8c"
      },
      "execution_count": null,
      "outputs": [
        {
          "output_type": "stream",
          "name": "stdout",
          "text": [
            "         Date        State  Consumption\n",
            "0  01-01-2024    Tamilnadu       347.25\n",
            "1  02-01-2024      Manipur       605.12\n",
            "2  03-01-2024    Telengana       444.63\n",
            "3  04-01-2024  Pondicherry       974.54\n",
            "4  05-01-2024    Tamilnadu       864.02\n"
          ]
        }
      ]
    },
    {
      "cell_type": "code",
      "source": [
        "print(electricity.tail(4))"
      ],
      "metadata": {
        "colab": {
          "base_uri": "https://localhost:8080/"
        },
        "id": "A7vEOxZ2eFgX",
        "outputId": "e65f2474-1d56-4566-ece2-53158ec53f1f"
      },
      "execution_count": null,
      "outputs": [
        {
          "output_type": "stream",
          "name": "stdout",
          "text": [
            "          Date        State  Consumption\n",
            "96  06-04-2024           UP       726.21\n",
            "97  07-04-2024       Andhra       305.70\n",
            "98  08-04-2024       Sikkim       257.46\n",
            "99  09-04-2024  Pondicherry       983.95\n"
          ]
        }
      ]
    },
    {
      "cell_type": "code",
      "source": [
        "print(electricity.info())"
      ],
      "metadata": {
        "colab": {
          "base_uri": "https://localhost:8080/"
        },
        "id": "Qhk7EcmzeTEs",
        "outputId": "17c3778f-b2ed-4467-8227-f0944813a96d"
      },
      "execution_count": null,
      "outputs": [
        {
          "output_type": "stream",
          "name": "stdout",
          "text": [
            "<class 'pandas.core.frame.DataFrame'>\n",
            "RangeIndex: 100 entries, 0 to 99\n",
            "Data columns (total 3 columns):\n",
            " #   Column       Non-Null Count  Dtype  \n",
            "---  ------       --------------  -----  \n",
            " 0   Date         100 non-null    object \n",
            " 1   State        100 non-null    object \n",
            " 2   Consumption  100 non-null    float64\n",
            "dtypes: float64(1), object(2)\n",
            "memory usage: 2.5+ KB\n",
            "None\n"
          ]
        }
      ]
    },
    {
      "cell_type": "code",
      "source": [
        "print(electricity.describe())"
      ],
      "metadata": {
        "colab": {
          "base_uri": "https://localhost:8080/"
        },
        "id": "U0hUH6YMeaKv",
        "outputId": "4c9dfea8-ba21-4f70-90a2-7dedb3fde54c"
      },
      "execution_count": null,
      "outputs": [
        {
          "output_type": "stream",
          "name": "stdout",
          "text": [
            "       Consumption\n",
            "count   100.000000\n",
            "mean    534.090400\n",
            "std     245.341678\n",
            "min     100.470000\n",
            "25%     321.570000\n",
            "50%     517.075000\n",
            "75%     726.215000\n",
            "max     997.970000\n"
          ]
        }
      ]
    },
    {
      "cell_type": "code",
      "source": [
        "print(\"Column Data\")\n",
        "print(electricity.columns)"
      ],
      "metadata": {
        "colab": {
          "base_uri": "https://localhost:8080/"
        },
        "id": "VwNpKZlEenvA",
        "outputId": "c025a6a8-539e-4724-ee50-4b5f3affa045"
      },
      "execution_count": null,
      "outputs": [
        {
          "output_type": "stream",
          "name": "stdout",
          "text": [
            "Column Data\n",
            "Index(['Date', 'State', 'Consumption'], dtype='object')\n"
          ]
        }
      ]
    },
    {
      "cell_type": "code",
      "source": [
        "print(electricity[electricity['State'].str.startswith('M')])\n",
        "print(electricity[electricity['State'].str.endswith('a')])"
      ],
      "metadata": {
        "colab": {
          "base_uri": "https://localhost:8080/"
        },
        "id": "ZidqmwcWenWk",
        "outputId": "46bd5b01-71d6-488d-d2aa-34c083a9c3e3"
      },
      "execution_count": null,
      "outputs": [
        {
          "output_type": "stream",
          "name": "stdout",
          "text": [
            "          Date    State  Consumption\n",
            "1   02-01-2024  Manipur       605.12\n",
            "18  19-01-2024  Mizoram       643.98\n",
            "21  22-01-2024  Manipur       948.57\n",
            "22  23-01-2024  Manipur       638.98\n",
            "37  07-02-2024  Manipur       682.92\n",
            "41  11-02-2024  Manipur       248.19\n",
            "44  14-02-2024  Mizoram       723.19\n",
            "60  01-03-2024  Manipur       469.93\n",
            "67  08-03-2024  Manipur       597.60\n",
            "70  11-03-2024  Manipur       432.69\n",
            "80  21-03-2024  Mizoram       726.23\n",
            "          Date      State  Consumption\n",
            "2   03-01-2024  Telengana       444.63\n",
            "5   06-01-2024    Tripura       749.56\n",
            "6   07-01-2024  Telengana       312.39\n",
            "7   08-01-2024  Telengana       330.46\n",
            "9   10-01-2024    Tripura       739.60\n",
            "10  11-01-2024     Andhra       199.80\n",
            "11  12-01-2024  Karnataka       495.40\n",
            "14  15-01-2024  Karnataka       527.83\n",
            "19  20-01-2024     Odisha       585.86\n",
            "20  21-01-2024     Kerala       282.76\n",
            "23  24-01-2024    Tripura       725.31\n",
            "25  26-01-2024     Andhra       661.92\n",
            "27  28-01-2024    Tripura       194.94\n",
            "36  06-02-2024  Karnataka       344.92\n",
            "40  10-02-2024    Tripura       374.30\n",
            "42  12-02-2024     Andhra       580.68\n",
            "45  15-02-2024  Telengana       342.47\n",
            "47  17-02-2024  Telengana       251.46\n",
            "49  19-02-2024  Karnataka       602.29\n",
            "51  21-02-2024     Odisha       158.40\n",
            "55  25-02-2024  Karnataka       741.04\n",
            "56  26-02-2024     Odisha       233.28\n",
            "59  29-02-2024     Kerala       978.95\n",
            "64  05-03-2024     Kerala       712.63\n",
            "78  19-03-2024  Telengana       235.65\n",
            "79  20-03-2024    Tripura       557.38\n",
            "82  23-03-2024     Andhra       393.36\n",
            "83  24-03-2024     Andhra       298.22\n",
            "86  27-03-2024     Odisha       413.80\n",
            "93  03-04-2024  Karnataka       761.69\n",
            "95  05-04-2024     Kerala       587.30\n",
            "97  07-04-2024     Andhra       305.70\n"
          ]
        }
      ]
    },
    {
      "cell_type": "code",
      "source": [
        "rcb=electricity[electricity['State']=='Andhra']\n",
        "print(len(rcb))\n",
        "cb=electricity[electricity['State']=='Manipure']\n",
        "print(len(cb))"
      ],
      "metadata": {
        "colab": {
          "base_uri": "https://localhost:8080/"
        },
        "id": "ij7IQXIEfVna",
        "outputId": "49634f73-d2a8-45df-898f-f6a7bae93a95"
      },
      "execution_count": null,
      "outputs": [
        {
          "output_type": "stream",
          "name": "stdout",
          "text": [
            "6\n",
            "0\n"
          ]
        }
      ]
    },
    {
      "cell_type": "code",
      "source": [
        "print(electricity.sort_values(by='State'))"
      ],
      "metadata": {
        "colab": {
          "base_uri": "https://localhost:8080/"
        },
        "id": "xCoR8bbgfabL",
        "outputId": "744e3fc9-0ac1-4b8a-ea4f-305608bdf0ec"
      },
      "execution_count": null,
      "outputs": [
        {
          "output_type": "stream",
          "name": "stdout",
          "text": [
            "          Date        State  Consumption\n",
            "97  07-04-2024       Andhra       305.70\n",
            "42  12-02-2024       Andhra       580.68\n",
            "10  11-01-2024       Andhra       199.80\n",
            "25  26-01-2024       Andhra       661.92\n",
            "83  24-03-2024       Andhra       298.22\n",
            "..         ...          ...          ...\n",
            "85  26-03-2024           UP       828.55\n",
            "26  27-01-2024           UP       366.07\n",
            "96  06-04-2024           UP       726.21\n",
            "13  14-01-2024  Uttarakhand       906.19\n",
            "50  20-02-2024  Uttarakhand       463.45\n",
            "\n",
            "[100 rows x 3 columns]\n"
          ]
        }
      ]
    },
    {
      "cell_type": "code",
      "source": [
        "print(electricity.sort_values(by='State'))\n",
        "print(np.max(electricity['Consumption']))\n",
        "print(np.min(electricity['Consumption']))\n",
        "print(np.mean(electricity['Consumption']))"
      ],
      "metadata": {
        "colab": {
          "base_uri": "https://localhost:8080/"
        },
        "id": "48-_La46fghJ",
        "outputId": "126facdb-b638-47ed-e5b2-20d2e73d446d"
      },
      "execution_count": null,
      "outputs": [
        {
          "output_type": "stream",
          "name": "stdout",
          "text": [
            "          Date        State  Consumption\n",
            "97  07-04-2024       Andhra       305.70\n",
            "42  12-02-2024       Andhra       580.68\n",
            "10  11-01-2024       Andhra       199.80\n",
            "25  26-01-2024       Andhra       661.92\n",
            "83  24-03-2024       Andhra       298.22\n",
            "..         ...          ...          ...\n",
            "85  26-03-2024           UP       828.55\n",
            "26  27-01-2024           UP       366.07\n",
            "96  06-04-2024           UP       726.21\n",
            "13  14-01-2024  Uttarakhand       906.19\n",
            "50  20-02-2024  Uttarakhand       463.45\n",
            "\n",
            "[100 rows x 3 columns]\n",
            "997.97\n",
            "100.47\n",
            "534.0903999999999\n"
          ]
        }
      ]
    },
    {
      "cell_type": "code",
      "source": [
        "\n",
        "print(electricity[electricity['State']=='Andhra']['Consumption'].max())\n",
        "print(electricity[electricity['State']=='Andhra']['Consumption'].min())"
      ],
      "metadata": {
        "colab": {
          "base_uri": "https://localhost:8080/"
        },
        "id": "O1igaQNjflgy",
        "outputId": "e6b18a9b-c558-4348-984e-9aeca4fe4a15"
      },
      "execution_count": null,
      "outputs": [
        {
          "output_type": "stream",
          "name": "stdout",
          "text": [
            "661.92\n",
            "199.8\n"
          ]
        }
      ]
    },
    {
      "cell_type": "code",
      "source": [
        "#state _data=electricity[electricity['State']=='Andhra\"]\n",
        "state1_data=electricity[electricity.State=='Andhra']\n",
        "print(state1_data)"
      ],
      "metadata": {
        "colab": {
          "base_uri": "https://localhost:8080/"
        },
        "id": "2_oJSvO9f6Tx",
        "outputId": "c1929ca1-d242-4cfd-95ea-de80cc63b76f"
      },
      "execution_count": null,
      "outputs": [
        {
          "output_type": "stream",
          "name": "stdout",
          "text": [
            "          Date   State  Consumption\n",
            "10  11-01-2024  Andhra       199.80\n",
            "25  26-01-2024  Andhra       661.92\n",
            "42  12-02-2024  Andhra       580.68\n",
            "82  23-03-2024  Andhra       393.36\n",
            "83  24-03-2024  Andhra       298.22\n",
            "97  07-04-2024  Andhra       305.70\n"
          ]
        }
      ]
    },
    {
      "cell_type": "code",
      "source": [
        "state2_data=electricity[electricity['State']=='Karnataka']\n",
        "\n",
        "state4_data=electricity[electricity['State']=='Telengana']\n",
        "state5_data=electricity[electricity['State']=='Tripuram']"
      ],
      "metadata": {
        "id": "NsO2s57Kf528"
      },
      "execution_count": null,
      "outputs": []
    },
    {
      "cell_type": "code",
      "source": [
        "#line chart\n",
        "fig,axes=plt.subplots(2)\n",
        "axes[0].plot(state1_data['Date'],state1_data['Consumption'],marker='*',color='red')\n",
        "\n",
        "axes[1].plot(state1_data['Date'],state1_data['Consumption'],marker='^',color='blue')\n"
      ],
      "metadata": {
        "colab": {
          "base_uri": "https://localhost:8080/",
          "height": 447
        },
        "id": "kLdy83-NgFMO",
        "outputId": "b9ec34b7-171c-449f-8a94-cb63345c1629"
      },
      "execution_count": null,
      "outputs": [
        {
          "output_type": "execute_result",
          "data": {
            "text/plain": [
              "[<matplotlib.lines.Line2D at 0x795037bf22f0>]"
            ]
          },
          "metadata": {},
          "execution_count": 19
        },
        {
          "output_type": "display_data",
          "data": {
            "text/plain": [
              "<Figure size 640x480 with 2 Axes>"
            ],
            "image/png": "[encoded data removed]"
          },
          "metadata": {}
        }
      ]
    },
    {
      "cell_type": "code",
      "source": [
        "\n",
        "#bar start\n",
        "fig1,axes1 = plt.subplots(2)\n",
        "axes1[0].bar(state4_data['Date'],state4_data['Consumption'],color='yellow')\n",
        "axes1[1].bar(state5_data['Date'],state5_data['Consumption'],color='pink')\n"
      ],
      "metadata": {
        "colab": {
          "base_uri": "https://localhost:8080/",
          "height": 791
        },
        "id": "4TD4kWO4gMkd",
        "outputId": "cf225cc5-691d-428e-8be8-5880c0d937f6"
      },
      "execution_count": null,
      "outputs": [
        {
          "output_type": "error",
          "ename": "AttributeError",
          "evalue": "Rectangle.set() got an unexpected keyword argument 'marker'",
          "traceback": [
            "\u001b[0;31m---------------------------------------------------------------------------\u001b[0m",
            "\u001b[0;31mAttributeError\u001b[0m                            Traceback (most recent call last)",
            "\u001b[0;32m<ipython-input-22-c89cdbd11cc5>\u001b[0m in \u001b[0;36m<cell line: 4>\u001b[0;34m()\u001b[0m\n\u001b[1;32m      2\u001b[0m \u001b[0mfig1\u001b[0m\u001b[0;34m,\u001b[0m\u001b[0maxes1\u001b[0m\u001b[0;34m=\u001b[0m\u001b[0mplt\u001b[0m\u001b[0;34m.\u001b[0m\u001b[0msubplots\u001b[0m\u001b[0;34m(\u001b[0m\u001b[0;36m2\u001b[0m\u001b[0;34m)\u001b[0m\u001b[0;34m\u001b[0m\u001b[0;34m\u001b[0m\u001b[0m\n\u001b[1;32m      3\u001b[0m \u001b[0;34m\u001b[0m\u001b[0m\n\u001b[0;32m----> 4\u001b[0;31m \u001b[0maxes\u001b[0m\u001b[0;34m[\u001b[0m\u001b[0;36m0\u001b[0m\u001b[0;34m]\u001b[0m\u001b[0;34m.\u001b[0m\u001b[0mbar\u001b[0m\u001b[0;34m(\u001b[0m\u001b[0mstate1_data\u001b[0m\u001b[0;34m[\u001b[0m\u001b[0;34m'Date'\u001b[0m\u001b[0;34m]\u001b[0m\u001b[0;34m,\u001b[0m\u001b[0mstate1_data\u001b[0m\u001b[0;34m[\u001b[0m\u001b[0;34m'Consumption'\u001b[0m\u001b[0;34m]\u001b[0m\u001b[0;34m,\u001b[0m\u001b[0mmarker\u001b[0m\u001b[0;34m=\u001b[0m\u001b[0;34m'*'\u001b[0m\u001b[0;34m,\u001b[0m\u001b[0mcolor\u001b[0m\u001b[0;34m=\u001b[0m\u001b[0;34m'red'\u001b[0m\u001b[0;34m)\u001b[0m\u001b[0;34m\u001b[0m\u001b[0;34m\u001b[0m\u001b[0m\n\u001b[0m\u001b[1;32m      5\u001b[0m \u001b[0;34m\u001b[0m\u001b[0m\n\u001b[1;32m      6\u001b[0m \u001b[0maxes\u001b[0m\u001b[0;34m[\u001b[0m\u001b[0;36m1\u001b[0m\u001b[0;34m]\u001b[0m\u001b[0;34m.\u001b[0m\u001b[0mbar\u001b[0m\u001b[0;34m(\u001b[0m\u001b[0mstate1_data\u001b[0m\u001b[0;34m[\u001b[0m\u001b[0;34m'Date'\u001b[0m\u001b[0;34m]\u001b[0m\u001b[0;34m,\u001b[0m\u001b[0mstate1_data\u001b[0m\u001b[0;34m[\u001b[0m\u001b[0;34m'Consumption'\u001b[0m\u001b[0;34m]\u001b[0m\u001b[0;34m,\u001b[0m\u001b[0mmarker\u001b[0m\u001b[0;34m=\u001b[0m\u001b[0;34m'^'\u001b[0m\u001b[0;34m,\u001b[0m\u001b[0mcolor\u001b[0m\u001b[0;34m=\u001b[0m\u001b[0;34m'blue'\u001b[0m\u001b[0;34m)\u001b[0m\u001b[0;34m\u001b[0m\u001b[0;34m\u001b[0m\u001b[0m\n",
            "\u001b[0;32m/usr/local/lib/python3.10/dist-packages/matplotlib/__init__.py\u001b[0m in \u001b[0;36minner\u001b[0;34m(ax, data, *args, **kwargs)\u001b[0m\n\u001b[1;32m   1440\u001b[0m     \u001b[0;32mdef\u001b[0m \u001b[0minner\u001b[0m\u001b[0;34m(\u001b[0m\u001b[0max\u001b[0m\u001b[0;34m,\u001b[0m \u001b[0;34m*\u001b[0m\u001b[0margs\u001b[0m\u001b[0;34m,\u001b[0m \u001b[0mdata\u001b[0m\u001b[0;34m=\u001b[0m\u001b[0;32mNone\u001b[0m\u001b[0;34m,\u001b[0m \u001b[0;34m**\u001b[0m\u001b[0mkwargs\u001b[0m\u001b[0;34m)\u001b[0m\u001b[0;34m:\u001b[0m\u001b[0;34m\u001b[0m\u001b[0;34m\u001b[0m\u001b[0m\n\u001b[1;32m   1441\u001b[0m         \u001b[0;32mif\u001b[0m \u001b[0mdata\u001b[0m \u001b[0;32mis\u001b[0m \u001b[0;32mNone\u001b[0m\u001b[0;34m:\u001b[0m\u001b[0;34m\u001b[0m\u001b[0;34m\u001b[0m\u001b[0m\n\u001b[0;32m-> 1442\u001b[0;31m             \u001b[0;32mreturn\u001b[0m \u001b[0mfunc\u001b[0m\u001b[0;34m(\u001b[0m\u001b[0max\u001b[0m\u001b[0;34m,\u001b[0m \u001b[0;34m*\u001b[0m\u001b[0mmap\u001b[0m\u001b[0;34m(\u001b[0m\u001b[0msanitize_sequence\u001b[0m\u001b[0;34m,\u001b[0m \u001b[0margs\u001b[0m\u001b[0;34m)\u001b[0m\u001b[0;34m,\u001b[0m \u001b[0;34m**\u001b[0m\u001b[0mkwargs\u001b[0m\u001b[0;34m)\u001b[0m\u001b[0;34m\u001b[0m\u001b[0;34m\u001b[0m\u001b[0m\n\u001b[0m\u001b[1;32m   1443\u001b[0m \u001b[0;34m\u001b[0m\u001b[0m\n\u001b[1;32m   1444\u001b[0m         \u001b[0mbound\u001b[0m \u001b[0;34m=\u001b[0m \u001b[0mnew_sig\u001b[0m\u001b[0;34m.\u001b[0m\u001b[0mbind\u001b[0m\u001b[0;34m(\u001b[0m\u001b[0max\u001b[0m\u001b[0;34m,\u001b[0m \u001b[0;34m*\u001b[0m\u001b[0margs\u001b[0m\u001b[0;34m,\u001b[0m \u001b[0;34m**\u001b[0m\u001b[0mkwargs\u001b[0m\u001b[0;34m)\u001b[0m\u001b[0;34m\u001b[0m\u001b[0;34m\u001b[0m\u001b[0m\n",
            "\u001b[0;32m/usr/local/lib/python3.10/dist-packages/matplotlib/axes/_axes.py\u001b[0m in \u001b[0;36mbar\u001b[0;34m(self, x, height, width, bottom, align, **kwargs)\u001b[0m\n\u001b[1;32m   2486\u001b[0m                 \u001b[0mhatch\u001b[0m\u001b[0;34m=\u001b[0m\u001b[0mhtch\u001b[0m\u001b[0;34m,\u001b[0m\u001b[0;34m\u001b[0m\u001b[0;34m\u001b[0m\u001b[0m\n\u001b[1;32m   2487\u001b[0m                 )\n\u001b[0;32m-> 2488\u001b[0;31m             \u001b[0mr\u001b[0m\u001b[0;34m.\u001b[0m\u001b[0m_internal_update\u001b[0m\u001b[0;34m(\u001b[0m\u001b[0mkwargs\u001b[0m\u001b[0;34m)\u001b[0m\u001b[0;34m\u001b[0m\u001b[0;34m\u001b[0m\u001b[0m\n\u001b[0m\u001b[1;32m   2489\u001b[0m             \u001b[0mr\u001b[0m\u001b[0;34m.\u001b[0m\u001b[0mget_path\u001b[0m\u001b[0;34m(\u001b[0m\u001b[0;34m)\u001b[0m\u001b[0;34m.\u001b[0m\u001b[0m_interpolation_steps\u001b[0m \u001b[0;34m=\u001b[0m \u001b[0;36m100\u001b[0m\u001b[0;34m\u001b[0m\u001b[0;34m\u001b[0m\u001b[0m\n\u001b[1;32m   2490\u001b[0m             \u001b[0;32mif\u001b[0m \u001b[0morientation\u001b[0m \u001b[0;34m==\u001b[0m \u001b[0;34m'vertical'\u001b[0m\u001b[0;34m:\u001b[0m\u001b[0;34m\u001b[0m\u001b[0;34m\u001b[0m\u001b[0m\n",
            "\u001b[0;32m/usr/local/lib/python3.10/dist-packages/matplotlib/artist.py\u001b[0m in \u001b[0;36m_internal_update\u001b[0;34m(self, kwargs)\u001b[0m\n\u001b[1;32m   1221\u001b[0m         \u001b[0mThe\u001b[0m \u001b[0mlack\u001b[0m \u001b[0mof\u001b[0m \u001b[0mprenormalization\u001b[0m \u001b[0;32mis\u001b[0m \u001b[0mto\u001b[0m \u001b[0mmaintain\u001b[0m \u001b[0mbackcompatibility\u001b[0m\u001b[0;34m.\u001b[0m\u001b[0;34m\u001b[0m\u001b[0;34m\u001b[0m\u001b[0m\n\u001b[1;32m   1222\u001b[0m         \"\"\"\n\u001b[0;32m-> 1223\u001b[0;31m         return self._update_props(\n\u001b[0m\u001b[1;32m   1224\u001b[0m             \u001b[0mkwargs\u001b[0m\u001b[0;34m,\u001b[0m \u001b[0;34m\"{cls.__name__}.set() got an unexpected keyword argument \"\u001b[0m\u001b[0;34m\u001b[0m\u001b[0;34m\u001b[0m\u001b[0m\n\u001b[1;32m   1225\u001b[0m             \"{prop_name!r}\")\n",
            "\u001b[0;32m/usr/local/lib/python3.10/dist-packages/matplotlib/artist.py\u001b[0m in \u001b[0;36m_update_props\u001b[0;34m(self, props, errfmt)\u001b[0m\n\u001b[1;32m   1195\u001b[0m                     \u001b[0mfunc\u001b[0m \u001b[0;34m=\u001b[0m \u001b[0mgetattr\u001b[0m\u001b[0;34m(\u001b[0m\u001b[0mself\u001b[0m\u001b[0;34m,\u001b[0m \u001b[0;34mf\"set_{k}\"\u001b[0m\u001b[0;34m,\u001b[0m \u001b[0;32mNone\u001b[0m\u001b[0;34m)\u001b[0m\u001b[0;34m\u001b[0m\u001b[0;34m\u001b[0m\u001b[0m\n\u001b[1;32m   1196\u001b[0m                     \u001b[0;32mif\u001b[0m \u001b[0;32mnot\u001b[0m \u001b[0mcallable\u001b[0m\u001b[0;34m(\u001b[0m\u001b[0mfunc\u001b[0m\u001b[0;34m)\u001b[0m\u001b[0;34m:\u001b[0m\u001b[0;34m\u001b[0m\u001b[0;34m\u001b[0m\u001b[0m\n\u001b[0;32m-> 1197\u001b[0;31m                         raise AttributeError(\n\u001b[0m\u001b[1;32m   1198\u001b[0m                             errfmt.format(cls=type(self), prop_name=k))\n\u001b[1;32m   1199\u001b[0m                     \u001b[0mret\u001b[0m\u001b[0;34m.\u001b[0m\u001b[0mappend\u001b[0m\u001b[0;34m(\u001b[0m\u001b[0mfunc\u001b[0m\u001b[0;34m(\u001b[0m\u001b[0mv\u001b[0m\u001b[0;34m)\u001b[0m\u001b[0;34m)\u001b[0m\u001b[0;34m\u001b[0m\u001b[0;34m\u001b[0m\u001b[0m\n",
            "\u001b[0;31mAttributeError\u001b[0m: Rectangle.set() got an unexpected keyword argument 'marker'"
          ]
        },
        {
          "output_type": "display_data",
          "data": {
            "text/plain": [
              "<Figure size 640x480 with 2 Axes>"
            ],
            "image/png": "[encoded data removed]"
          },
          "metadata": {}
        }
      ]
    },
    {
      "cell_type": "code",
      "source": [
        "#pie chart\n",
        "fig2,axes2=plt.subplots(2)\n",
        "state1='UP'\n",
        "state2='Kerala'\n",
        "state3='Mizoram'\n",
        "state4='Delhi'\n",
        "labels=[state1.state2]\n",
        "state1_total=electricity[electricity['State']==state1]['Consumption'].sum()\n",
        "state1_total=electricity[electricity['State']==state2]['Consumption'].sum()\n",
        "energy=[state1_total,state2_total]\n"
      ],
      "metadata": {
        "colab": {
          "base_uri": "https://localhost:8080/",
          "height": 629
        },
        "id": "FgGf0A4vgTA7",
        "outputId": "cc3653e8-468b-490d-e116-d8d4db7a6a83"
      },
      "execution_count": null,
      "outputs": [
        {
          "output_type": "error",
          "ename": "AttributeError",
          "evalue": "'str' object has no attribute 'state2'",
          "traceback": [
            "\u001b[0;31m---------------------------------------------------------------------------\u001b[0m",
            "\u001b[0;31mAttributeError\u001b[0m                            Traceback (most recent call last)",
            "\u001b[0;32m<ipython-input-29-31b7afcee3c3>\u001b[0m in \u001b[0;36m<cell line: 7>\u001b[0;34m()\u001b[0m\n\u001b[1;32m      5\u001b[0m \u001b[0mstate3\u001b[0m\u001b[0;34m=\u001b[0m\u001b[0;34m'Mizoram'\u001b[0m\u001b[0;34m\u001b[0m\u001b[0;34m\u001b[0m\u001b[0m\n\u001b[1;32m      6\u001b[0m \u001b[0mstate4\u001b[0m\u001b[0;34m=\u001b[0m\u001b[0;34m'Delhi'\u001b[0m\u001b[0;34m\u001b[0m\u001b[0;34m\u001b[0m\u001b[0m\n\u001b[0;32m----> 7\u001b[0;31m \u001b[0mlabels\u001b[0m\u001b[0;34m=\u001b[0m\u001b[0;34m[\u001b[0m\u001b[0mstate1\u001b[0m\u001b[0;34m.\u001b[0m\u001b[0mstate2\u001b[0m\u001b[0;34m]\u001b[0m\u001b[0;34m\u001b[0m\u001b[0;34m\u001b[0m\u001b[0m\n\u001b[0m\u001b[1;32m      8\u001b[0m \u001b[0mstate1_total\u001b[0m\u001b[0;34m=\u001b[0m\u001b[0melectricity\u001b[0m\u001b[0;34m[\u001b[0m\u001b[0melectricity\u001b[0m\u001b[0;34m[\u001b[0m\u001b[0;34m'State'\u001b[0m\u001b[0;34m]\u001b[0m\u001b[0;34m==\u001b[0m\u001b[0mstate1\u001b[0m\u001b[0;34m]\u001b[0m\u001b[0;34m[\u001b[0m\u001b[0;34m'Consumption'\u001b[0m\u001b[0;34m]\u001b[0m\u001b[0;34m.\u001b[0m\u001b[0msum\u001b[0m\u001b[0;34m(\u001b[0m\u001b[0;34m)\u001b[0m\u001b[0;34m\u001b[0m\u001b[0;34m\u001b[0m\u001b[0m\n\u001b[1;32m      9\u001b[0m \u001b[0mstate1_total\u001b[0m\u001b[0;34m=\u001b[0m\u001b[0melectricity\u001b[0m\u001b[0;34m[\u001b[0m\u001b[0melectricity\u001b[0m\u001b[0;34m[\u001b[0m\u001b[0;34m'State'\u001b[0m\u001b[0;34m]\u001b[0m\u001b[0;34m==\u001b[0m\u001b[0mstate2\u001b[0m\u001b[0;34m]\u001b[0m\u001b[0;34m[\u001b[0m\u001b[0;34m'Consumption'\u001b[0m\u001b[0;34m]\u001b[0m\u001b[0;34m.\u001b[0m\u001b[0msum\u001b[0m\u001b[0;34m(\u001b[0m\u001b[0;34m)\u001b[0m\u001b[0;34m\u001b[0m\u001b[0;34m\u001b[0m\u001b[0m\n",
            "\u001b[0;31mAttributeError\u001b[0m: 'str' object has no attribute 'state2'"
          ]
        },
        {
          "output_type": "display_data",
          "data": {
            "text/plain": [
              "<Figure size 640x480 with 2 Axes>"
            ],
            "image/png": "[encoded data removed]"
          },
          "metadata": {}
        }
      ]
    },
    {
      "cell_type": "code",
      "source": [
        "#'energy' should be a list of numerical values\n",
        "\n",
        "energy=[state1_total,state2_total]\n",
        "axes2[0].pie(energy,labels=labels,autopct='%1.1f%%')\n",
        "\n",
        "labels=[state3.state4]\n",
        "state3_total=electricity[electricity['State']==state3]['Consumption'].sum()\n",
        "state4_total=electricity[electricity['State']==state4]['Consumption'].sum()\n"
      ],
      "metadata": {
        "colab": {
          "base_uri": "https://localhost:8080/",
          "height": 211
        },
        "id": "ZnTicxvdgTT4",
        "outputId": "f0917f4b-09d0-40bd-dec0-7b41a9cb1253"
      },
      "execution_count": null,
      "outputs": [
        {
          "output_type": "error",
          "ename": "NameError",
          "evalue": "name 'state1_total' is not defined",
          "traceback": [
            "\u001b[0;31m---------------------------------------------------------------------------\u001b[0m",
            "\u001b[0;31mNameError\u001b[0m                                 Traceback (most recent call last)",
            "\u001b[0;32m<ipython-input-28-91ad93de3ae8>\u001b[0m in \u001b[0;36m<cell line: 5>\u001b[0;34m()\u001b[0m\n\u001b[1;32m      3\u001b[0m \u001b[0mstate4_total\u001b[0m\u001b[0;34m=\u001b[0m\u001b[0melectricity\u001b[0m\u001b[0;34m[\u001b[0m\u001b[0melectricity\u001b[0m\u001b[0;34m[\u001b[0m\u001b[0;34m'State'\u001b[0m\u001b[0;34m]\u001b[0m\u001b[0;34m==\u001b[0m\u001b[0mstate4\u001b[0m\u001b[0;34m]\u001b[0m\u001b[0;34m[\u001b[0m\u001b[0;34m'Consumption'\u001b[0m\u001b[0;34m]\u001b[0m\u001b[0;34m.\u001b[0m\u001b[0msum\u001b[0m\u001b[0;34m(\u001b[0m\u001b[0;34m)\u001b[0m\u001b[0;34m\u001b[0m\u001b[0;34m\u001b[0m\u001b[0m\n\u001b[1;32m      4\u001b[0m \u001b[0;34m\u001b[0m\u001b[0m\n\u001b[0;32m----> 5\u001b[0;31m \u001b[0menergy\u001b[0m\u001b[0;34m=\u001b[0m\u001b[0;34m[\u001b[0m\u001b[0mstate1_total\u001b[0m\u001b[0;34m,\u001b[0m\u001b[0mstate2_total\u001b[0m\u001b[0;34m]\u001b[0m\u001b[0;34m\u001b[0m\u001b[0;34m\u001b[0m\u001b[0m\n\u001b[0m\u001b[1;32m      6\u001b[0m \u001b[0maxes2\u001b[0m\u001b[0;34m[\u001b[0m\u001b[0;36m0\u001b[0m\u001b[0;34m]\u001b[0m\u001b[0;34m.\u001b[0m\u001b[0mpie\u001b[0m\u001b[0;34m(\u001b[0m\u001b[0menergy\u001b[0m\u001b[0;34m,\u001b[0m\u001b[0mlabels\u001b[0m\u001b[0;34m=\u001b[0m\u001b[0mlabels\u001b[0m\u001b[0;34m,\u001b[0m\u001b[0mautopct\u001b[0m\u001b[0;34m=\u001b[0m\u001b[0;34m'%1.1f%%'\u001b[0m\u001b[0;34m)\u001b[0m\u001b[0;34m\u001b[0m\u001b[0;34m\u001b[0m\u001b[0m\n\u001b[1;32m      7\u001b[0m \u001b[0;34m\u001b[0m\u001b[0m\n",
            "\u001b[0;31mNameError\u001b[0m: name 'state1_total' is not defined"
          ]
        }
      ]
    },
    {
      "cell_type": "code",
      "source": [
        "#'energy' should be a list of numerical values\n",
        "energy=[state3_total,state4_total]\n",
        "axes2[0].pie(energy,labels=labels,autopct='%1.1f%%')\n",
        "\n",
        "\n"
      ],
      "metadata": {
        "colab": {
          "base_uri": "https://localhost:8080/",
          "height": 211
        },
        "id": "fdXSOA2Agjut",
        "outputId": "83841010-95f7-4a49-ec97-9fae2380e7a5"
      },
      "execution_count": null,
      "outputs": [
        {
          "output_type": "error",
          "ename": "NameError",
          "evalue": "name 'state3_total' is not defined",
          "traceback": [
            "\u001b[0;31m---------------------------------------------------------------------------\u001b[0m",
            "\u001b[0;31mNameError\u001b[0m                                 Traceback (most recent call last)",
            "\u001b[0;32m<ipython-input-25-f8a140f15b6a>\u001b[0m in \u001b[0;36m<cell line: 2>\u001b[0;34m()\u001b[0m\n\u001b[1;32m      1\u001b[0m \u001b[0;31m#'energy' should be a list of numerical values\u001b[0m\u001b[0;34m\u001b[0m\u001b[0;34m\u001b[0m\u001b[0m\n\u001b[0;32m----> 2\u001b[0;31m \u001b[0menergy\u001b[0m\u001b[0;34m=\u001b[0m\u001b[0;34m[\u001b[0m\u001b[0mstate3_total\u001b[0m\u001b[0;34m,\u001b[0m\u001b[0mstate4_total\u001b[0m\u001b[0;34m]\u001b[0m\u001b[0;34m\u001b[0m\u001b[0;34m\u001b[0m\u001b[0m\n\u001b[0m\u001b[1;32m      3\u001b[0m \u001b[0maxes2\u001b[0m\u001b[0;34m[\u001b[0m\u001b[0;36m0\u001b[0m\u001b[0;34m]\u001b[0m\u001b[0;34m.\u001b[0m\u001b[0mpie\u001b[0m\u001b[0;34m(\u001b[0m\u001b[0menergy\u001b[0m\u001b[0;34m,\u001b[0m\u001b[0mlabels\u001b[0m\u001b[0;34m=\u001b[0m\u001b[0mlabels\u001b[0m\u001b[0;34m,\u001b[0m\u001b[0mautopct\u001b[0m\u001b[0;34m=\u001b[0m\u001b[0;34m'%1.1f%%'\u001b[0m\u001b[0;34m)\u001b[0m\u001b[0;34m\u001b[0m\u001b[0;34m\u001b[0m\u001b[0m\n\u001b[1;32m      4\u001b[0m \u001b[0;34m\u001b[0m\u001b[0m\n\u001b[1;32m      5\u001b[0m \u001b[0;34m\u001b[0m\u001b[0m\n",
            "\u001b[0;31mNameError\u001b[0m: name 'state3_total' is not defined"
          ]
        }
      ]
    },
    {
      "cell_type": "code",
      "source": [
        "import pandas as pd\n",
        "import numpy as np\n",
        "import matplotlib.pyplot as plt\n",
        "from pandas import read_csv\n",
        "path=\"/content/drive/MyDrive/energy.csv\"\n",
        "electricity=pd.read_csv(path)\n",
        "print(type(electricity))\n",
        "print(electricity)\n",
        "print(electricity.shape)\n",
        "print(electricity.head(5))\n",
        "print(electricity.tail(4))\n",
        "print(electricity.info())\n",
        "print(electricity.describe())\n",
        "print(\"Column Data\")\n",
        "print(electricity.columns)\n",
        "print(electricity[electricity['State'].str.startswith('M')])\n",
        "print(electricity[electricity['State'].str.endswith('a')])\n",
        "rcb=elecricity[electricity['State']=='Andhra']\n",
        "print(len(rcb))\n",
        "cb=elecricity[electricity['State']=='Manipure']\n",
        "print(len(cb))\n",
        "print(electricity.sort_values(by='State'))\n",
        "print(np.max(electricity['Consumption']))\n",
        "print(np.min(electricity['Consumption']))\n",
        "print(np.mean(electricity['Consumption']))\n",
        "#print max unit for Andhra\n",
        "print(electricity[electricity['State']=='Andhra']['Consumption'].max())\n",
        "print(electricity[electricity['State']=='Andhra']['Consumption'].min())\n",
        "#state _data=electricity[electricity['State']=='Andhra\"]\n",
        "state1_data=electricity[electricity.State=='Andhra']\n",
        "print(state1_data)\n",
        "state2_data=electricity[electricity['State']=='Karnataka']\n",
        "\n",
        "state4_data=electricity[electricity['State']=='Telengana']\n",
        "state5_data=electricity[electricity['State']=='Tripuram']\n",
        "#line chart\n",
        "fig,axes=plt.subplots(2)\n",
        "axes[0].plot(state1_data['Date'],state1_data['Consumption'],marker='*',color='red')\n",
        "\n",
        "axes[1].plot(state1_data['Date'],state1_data['Consumption'],marker='^',color='blue')\n",
        "\n",
        "#bar chart\n",
        "fig1,axes1=plt.subplots(2)\n",
        "\n",
        "axes[0].bar(state1_data['Date'],state1_data['Consumption'],marker='*',color='red')\n",
        "\n",
        "axes[1].bar(state1_data['Date'],state1_data['Consumption'],marker='^',color='blue')\n",
        "#pie chart\n",
        "fig2,axes2=plt.subplots(2)\n",
        "state1='UP'\n",
        "state2='Kerala'\n",
        "state3='Mizoram'\n",
        "state4='Delhi'\n",
        "labels=[state1.state2]\n",
        "state1_total=electricity[electricity['State']==state1]['Consumption'].sum()\n",
        "state1_total=electricity[electricity['State']==state2]['Consumption'].sum()\n",
        "\n",
        "#'energy' should be a list of numerical values\n",
        "energy=[state1_total,state2_total]\n",
        "axes2[0].pie(energy,labels=labels,autopct='%1.1f%%')\n",
        "\n",
        "labels=[state3.state4]\n",
        "state1_total=electricity[electricity['State']==state3]['Consumption'].sum()\n",
        "state1_total=electricity[electricity['State']==state4]['Consumption'].sum()\n",
        "\n",
        "#'energy' should be a list of numerical values\n",
        "energy=[state3_total,state4_total]\n",
        "axes2[0].pie(energy,labels=labels,autopct='%1.1f%%')\n",
        "\n",
        "\n",
        "\n",
        "\n",
        "\n",
        "\n"
      ],
      "metadata": {
        "colab": {
          "base_uri": "https://localhost:8080/",
          "height": 1000
        },
        "id": "bcSTv2Da5TRF",
        "outputId": "9e53d71c-e624-4931-e367-e18757c337ce"
      },
      "execution_count": null,
      "outputs": [
        {
          "output_type": "stream",
          "name": "stdout",
          "text": [
            "<class 'pandas.core.frame.DataFrame'>\n",
            "          Date        State  Consumption\n",
            "0   01-01-2024    Tamilnadu       347.25\n",
            "1   02-01-2024      Manipur       605.12\n",
            "2   03-01-2024    Telengana       444.63\n",
            "3   04-01-2024  Pondicherry       974.54\n",
            "4   05-01-2024    Tamilnadu       864.02\n",
            "..         ...          ...          ...\n",
            "95  05-04-2024       Kerala       587.30\n",
            "96  06-04-2024           UP       726.21\n",
            "97  07-04-2024       Andhra       305.70\n",
            "98  08-04-2024       Sikkim       257.46\n",
            "99  09-04-2024  Pondicherry       983.95\n",
            "\n",
            "[100 rows x 3 columns]\n",
            "(100, 3)\n",
            "         Date        State  Consumption\n",
            "0  01-01-2024    Tamilnadu       347.25\n",
            "1  02-01-2024      Manipur       605.12\n",
            "2  03-01-2024    Telengana       444.63\n",
            "3  04-01-2024  Pondicherry       974.54\n",
            "4  05-01-2024    Tamilnadu       864.02\n",
            "          Date        State  Consumption\n",
            "96  06-04-2024           UP       726.21\n",
            "97  07-04-2024       Andhra       305.70\n",
            "98  08-04-2024       Sikkim       257.46\n",
            "99  09-04-2024  Pondicherry       983.95\n",
            "<class 'pandas.core.frame.DataFrame'>\n",
            "RangeIndex: 100 entries, 0 to 99\n",
            "Data columns (total 3 columns):\n",
            " #   Column       Non-Null Count  Dtype  \n",
            "---  ------       --------------  -----  \n",
            " 0   Date         100 non-null    object \n",
            " 1   State        100 non-null    object \n",
            " 2   Consumption  100 non-null    float64\n",
            "dtypes: float64(1), object(2)\n",
            "memory usage: 2.5+ KB\n",
            "None\n",
            "       Consumption\n",
            "count   100.000000\n",
            "mean    534.090400\n",
            "std     245.341678\n",
            "min     100.470000\n",
            "25%     321.570000\n",
            "50%     517.075000\n",
            "75%     726.215000\n",
            "max     997.970000\n",
            "Column Data\n",
            "Index(['Date', 'State', 'Consumption'], dtype='object')\n",
            "          Date    State  Consumption\n",
            "1   02-01-2024  Manipur       605.12\n",
            "18  19-01-2024  Mizoram       643.98\n",
            "21  22-01-2024  Manipur       948.57\n",
            "22  23-01-2024  Manipur       638.98\n",
            "37  07-02-2024  Manipur       682.92\n",
            "41  11-02-2024  Manipur       248.19\n",
            "44  14-02-2024  Mizoram       723.19\n",
            "60  01-03-2024  Manipur       469.93\n",
            "67  08-03-2024  Manipur       597.60\n",
            "70  11-03-2024  Manipur       432.69\n",
            "80  21-03-2024  Mizoram       726.23\n",
            "          Date      State  Consumption\n",
            "2   03-01-2024  Telengana       444.63\n",
            "5   06-01-2024    Tripura       749.56\n",
            "6   07-01-2024  Telengana       312.39\n",
            "7   08-01-2024  Telengana       330.46\n",
            "9   10-01-2024    Tripura       739.60\n",
            "10  11-01-2024     Andhra       199.80\n",
            "11  12-01-2024  Karnataka       495.40\n",
            "14  15-01-2024  Karnataka       527.83\n",
            "19  20-01-2024     Odisha       585.86\n",
            "20  21-01-2024     Kerala       282.76\n",
            "23  24-01-2024    Tripura       725.31\n",
            "25  26-01-2024     Andhra       661.92\n",
            "27  28-01-2024    Tripura       194.94\n",
            "36  06-02-2024  Karnataka       344.92\n",
            "40  10-02-2024    Tripura       374.30\n",
            "42  12-02-2024     Andhra       580.68\n",
            "45  15-02-2024  Telengana       342.47\n",
            "47  17-02-2024  Telengana       251.46\n",
            "49  19-02-2024  Karnataka       602.29\n",
            "51  21-02-2024     Odisha       158.40\n",
            "55  25-02-2024  Karnataka       741.04\n",
            "56  26-02-2024     Odisha       233.28\n",
            "59  29-02-2024     Kerala       978.95\n",
            "64  05-03-2024     Kerala       712.63\n",
            "78  19-03-2024  Telengana       235.65\n",
            "79  20-03-2024    Tripura       557.38\n",
            "82  23-03-2024     Andhra       393.36\n",
            "83  24-03-2024     Andhra       298.22\n",
            "86  27-03-2024     Odisha       413.80\n",
            "93  03-04-2024  Karnataka       761.69\n",
            "95  05-04-2024     Kerala       587.30\n",
            "97  07-04-2024     Andhra       305.70\n"
          ]
        },
        {
          "output_type": "error",
          "ename": "NameError",
          "evalue": "name 'elecricity' is not defined",
          "traceback": [
            "\u001b[0;31m---------------------------------------------------------------------------\u001b[0m",
            "\u001b[0;31mNameError\u001b[0m                                 Traceback (most recent call last)",
            "\u001b[0;32m<ipython-input-26-ff65a4efd9df>\u001b[0m in \u001b[0;36m<cell line: 18>\u001b[0;34m()\u001b[0m\n\u001b[1;32m     16\u001b[0m \u001b[0mprint\u001b[0m\u001b[0;34m(\u001b[0m\u001b[0melectricity\u001b[0m\u001b[0;34m[\u001b[0m\u001b[0melectricity\u001b[0m\u001b[0;34m[\u001b[0m\u001b[0;34m'State'\u001b[0m\u001b[0;34m]\u001b[0m\u001b[0;34m.\u001b[0m\u001b[0mstr\u001b[0m\u001b[0;34m.\u001b[0m\u001b[0mstartswith\u001b[0m\u001b[0;34m(\u001b[0m\u001b[0;34m'M'\u001b[0m\u001b[0;34m)\u001b[0m\u001b[0;34m]\u001b[0m\u001b[0;34m)\u001b[0m\u001b[0;34m\u001b[0m\u001b[0;34m\u001b[0m\u001b[0m\n\u001b[1;32m     17\u001b[0m \u001b[0mprint\u001b[0m\u001b[0;34m(\u001b[0m\u001b[0melectricity\u001b[0m\u001b[0;34m[\u001b[0m\u001b[0melectricity\u001b[0m\u001b[0;34m[\u001b[0m\u001b[0;34m'State'\u001b[0m\u001b[0;34m]\u001b[0m\u001b[0;34m.\u001b[0m\u001b[0mstr\u001b[0m\u001b[0;34m.\u001b[0m\u001b[0mendswith\u001b[0m\u001b[0;34m(\u001b[0m\u001b[0;34m'a'\u001b[0m\u001b[0;34m)\u001b[0m\u001b[0;34m]\u001b[0m\u001b[0;34m)\u001b[0m\u001b[0;34m\u001b[0m\u001b[0;34m\u001b[0m\u001b[0m\n\u001b[0;32m---> 18\u001b[0;31m \u001b[0mrcb\u001b[0m\u001b[0;34m=\u001b[0m\u001b[0melecricity\u001b[0m\u001b[0;34m[\u001b[0m\u001b[0melectricity\u001b[0m\u001b[0;34m[\u001b[0m\u001b[0;34m'State'\u001b[0m\u001b[0;34m]\u001b[0m\u001b[0;34m==\u001b[0m\u001b[0;34m'Andhra'\u001b[0m\u001b[0;34m]\u001b[0m\u001b[0;34m\u001b[0m\u001b[0;34m\u001b[0m\u001b[0m\n\u001b[0m\u001b[1;32m     19\u001b[0m \u001b[0mprint\u001b[0m\u001b[0;34m(\u001b[0m\u001b[0mlen\u001b[0m\u001b[0;34m(\u001b[0m\u001b[0mrcb\u001b[0m\u001b[0;34m)\u001b[0m\u001b[0;34m)\u001b[0m\u001b[0;34m\u001b[0m\u001b[0;34m\u001b[0m\u001b[0m\n\u001b[1;32m     20\u001b[0m \u001b[0mcb\u001b[0m\u001b[0;34m=\u001b[0m\u001b[0melecricity\u001b[0m\u001b[0;34m[\u001b[0m\u001b[0melectricity\u001b[0m\u001b[0;34m[\u001b[0m\u001b[0;34m'State'\u001b[0m\u001b[0;34m]\u001b[0m\u001b[0;34m==\u001b[0m\u001b[0;34m'Manipure'\u001b[0m\u001b[0;34m]\u001b[0m\u001b[0;34m\u001b[0m\u001b[0;34m\u001b[0m\u001b[0m\n",
            "\u001b[0;31mNameError\u001b[0m: name 'elecricity' is not defined"
          ]
        }
      ]
    },
    {
      "cell_type": "code",
      "source": [],
      "metadata": {
        "id": "AQJRJBIF_OnW"
      },
      "execution_count": null,
      "outputs": []
    }
  ]
}